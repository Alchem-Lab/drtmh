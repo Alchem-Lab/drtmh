{
 "cells": [
  {
   "cell_type": "code",
   "execution_count": 1,
   "metadata": {},
   "outputs": [],
   "source": [
    "import matplotlib\n",
    "matplotlib.use(\"pdf\")\n",
    "matplotlib.rc('pdf', fonttype=42)\n",
    "\n",
    "import numpy as np\n",
    "import matplotlib.pyplot as plt\n",
    "\n",
    "# data to plot\n",
    "xticks = ('nowait', 'waitdie', 'occ', 'mvcc', 'sundial')\n",
    "n_groups = len(xticks)\n",
    "rpc = (3333325, 3435806, 3268506, 2499047, 2699445)\n",
    "onesided = (4102212, 4007310, 3481180, 4312138, 3638650)\n",
    "\n",
    "colors=['b','g','r','c','m','y','k','grey']\n",
    "patterns = [ \"\",\"/\", \"/\" , \"\\\\\" , \"|\" , \"-\" , \"+\" , \"x\", \"o\", \"O\", \".\", \"*\" ]\n",
    "\n",
    "# plt.figure(figsize=(24,4))\n",
    "# create plot\n",
    "fig, ax = plt.subplots(figsize=(8,2))\n",
    "index = np.arange(n_groups)*1.5\n",
    "bar_width = 0.3\n",
    "opacity = 0.8\n",
    "\n",
    "rects1 = plt.bar(index, rpc, bar_width,\n",
    "alpha=opacity,\n",
    "color='b',\n",
    "label='RPC')\n",
    "\n",
    "rects2 = plt.bar(index + bar_width, onesided, bar_width,\n",
    "alpha=opacity,\n",
    "color='g',\n",
    "hatch='/',\n",
    "label='onesided')\n",
    "\n",
    "\n",
    "ax.ticklabel_format(axis='y', style='sci',scilimits=(0,0))\n",
    "ax.yaxis.get_offset_text().set_fontsize(20)\n",
    "#plt.xlabel('')\n",
    "# plt.ylabel('')\n",
    "# plt.title('# Network Round Trips')\n",
    "plt.xticks(index + bar_width/2, xticks, fontsize=20)\n",
    "plt.yticks(fontsize=20)\n",
    "plt.legend(loc='upper center', fontsize=18, ncol=2, bbox_to_anchor=(0.5,1.4))\n",
    "\n",
    "# plt.title(\"Operation latency in Sundial running YCSB on gorgon(8 thread 10 cor)\")\n",
    "# plt.legend(fontsize=16, bbox_to_anchor=(-2.2, -0.9, 1, .06), loc=3, ncol=2,  borderaxespad=0.)\n",
    "plt.savefig('network_trips' + '.pdf', bbox_inches='tight')\n"
   ]
  },
  {
   "cell_type": "code",
   "execution_count": null,
   "metadata": {},
   "outputs": [],
   "source": []
  }
 ],
 "metadata": {
  "kernelspec": {
   "display_name": "Python 3",
   "language": "python",
   "name": "python3"
  },
  "language_info": {
   "codemirror_mode": {
    "name": "ipython",
    "version": 3
   },
   "file_extension": ".py",
   "mimetype": "text/x-python",
   "name": "python",
   "nbconvert_exporter": "python",
   "pygments_lexer": "ipython3",
   "version": "3.7.3"
  }
 },
 "nbformat": 4,
 "nbformat_minor": 2
}
